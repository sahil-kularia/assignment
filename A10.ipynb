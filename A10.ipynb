{
 "cells": [
  {
   "cell_type": "markdown",
   "id": "bf84645e",
   "metadata": {},
   "source": [
    "Assignment-10\n"
   ]
  },
  {
   "cell_type": "markdown",
   "id": "79a6a8bd",
   "metadata": {},
   "source": [
    "Q1"
   ]
  },
  {
   "cell_type": "code",
   "execution_count": null,
   "id": "e62921d4",
   "metadata": {},
   "outputs": [
    {
     "name": "stdout",
     "output_type": "stream",
     "text": [
      "Cleaned Text:\n",
      " \n",
      "technology has revolutionized the way we communicate work and learn smartphones and laptops have become indispensable tools in our daily lives from virtual reality to artificial intelligence technology is advancing at an unprecedented pace this rapid progress brings exciting opportunities and complex challenges as society embraces innovation ethical considerations about data privacy and automation become increasingly important\n",
      "\n"
     ]
    }
   ],
   "source": [
    "#1\n",
    "paragraph = \"\"\"\n",
    "Technology has revolutionized the way we communicate, work, and learn. Smartphones and laptops have become indispensable tools in our daily lives. From virtual reality to artificial intelligence, technology is advancing at an unprecedented pace. This rapid progress brings exciting opportunities and complex challenges. As society embraces innovation, ethical considerations about data privacy and automation become increasingly important.\n",
    "\"\"\"\n",
    "import re\n",
    "\n",
    "text_cleaned = re.sub(r'[^\\w\\s]', '',paragraph.lower())\n",
    "print(\"Cleaned Text:\\n\", text_cleaned)\n"
   ]
  },
  {
   "cell_type": "code",
   "execution_count": 11,
   "id": "8191fa06",
   "metadata": {},
   "outputs": [
    {
     "name": "stdout",
     "output_type": "stream",
     "text": [
      "Sentences: ['\\nTechnology has revolutionized the way we communicate, work, and learn.', 'Smartphones and laptops have become indispensable tools in our daily lives.', 'From virtual reality to artificial intelligence, technology is advancing at an unprecedented pace.', 'This rapid progress brings exciting opportunities and complex challenges.', 'As society embraces innovation, ethical considerations about data privacy and automation become increasingly important.']\n",
      "Words: ['technology', 'has', 'revolutionized', 'the', 'way', 'we', 'communicate', 'work', 'and', 'learn', 'smartphones', 'and', 'laptops', 'have', 'become', 'indispensable', 'tools', 'in', 'our', 'daily', 'lives', 'from', 'virtual', 'reality', 'to', 'artificial', 'intelligence', 'technology', 'is', 'advancing', 'at', 'an', 'unprecedented', 'pace', 'this', 'rapid', 'progress', 'brings', 'exciting', 'opportunities', 'and', 'complex', 'challenges', 'as', 'society', 'embraces', 'innovation', 'ethical', 'considerations', 'about', 'data', 'privacy', 'and', 'automation', 'become', 'increasingly', 'important']\n"
     ]
    },
    {
     "name": "stderr",
     "output_type": "stream",
     "text": [
      "[nltk_data] Downloading package punkt to\n",
      "[nltk_data]     C:\\Users\\Croma\\AppData\\Roaming\\nltk_data...\n",
      "[nltk_data]   Package punkt is already up-to-date!\n"
     ]
    }
   ],
   "source": [
    "#2\n",
    "from nltk.tokenize import word_tokenize, sent_tokenize\n",
    "import nltk\n",
    "\n",
    "nltk.download('punkt')\n",
    "\n",
    "sentences=sent_tokenize(paragraph)\n",
    "words=word_tokenize(text_cleaned)\n",
    "\n",
    "print(\"Sentences:\", sentences)\n",
    "print(\"Words:\", words)"
   ]
  },
  {
   "cell_type": "code",
   "execution_count": 12,
   "id": "d88c66b1",
   "metadata": {},
   "outputs": [
    {
     "name": "stdout",
     "output_type": "stream",
     "text": [
      "Split Words (Python split()):\n",
      " ['technology', 'has', 'revolutionized', 'the', 'way', 'we', 'communicate', 'work', 'and', 'learn', 'smartphones', 'and', 'laptops', 'have', 'become', 'indispensable', 'tools', 'in', 'our', 'daily', 'lives', 'from', 'virtual', 'reality', 'to', 'artificial', 'intelligence', 'technology', 'is', 'advancing', 'at', 'an', 'unprecedented', 'pace', 'this', 'rapid', 'progress', 'brings', 'exciting', 'opportunities', 'and', 'complex', 'challenges', 'as', 'society', 'embraces', 'innovation', 'ethical', 'considerations', 'about', 'data', 'privacy', 'and', 'automation', 'become', 'increasingly', 'important']\n",
      "\n",
      "Words (NLTK word_tokenize()):\n",
      " ['technology', 'has', 'revolutionized', 'the', 'way', 'we', 'communicate', 'work', 'and', 'learn', 'smartphones', 'and', 'laptops', 'have', 'become', 'indispensable', 'tools', 'in', 'our', 'daily', 'lives', 'from', 'virtual', 'reality', 'to', 'artificial', 'intelligence', 'technology', 'is', 'advancing', 'at', 'an', 'unprecedented', 'pace', 'this', 'rapid', 'progress', 'brings', 'exciting', 'opportunities', 'and', 'complex', 'challenges', 'as', 'society', 'embraces', 'innovation', 'ethical', 'considerations', 'about', 'data', 'privacy', 'and', 'automation', 'become', 'increasingly', 'important']\n"
     ]
    }
   ],
   "source": [
    "#3\n",
    "split_words = text_cleaned.split()\n",
    "\n",
    "print(\"Split Words (Python split()):\\n\", split_words)\n",
    "print(\"\\nWords (NLTK word_tokenize()):\\n\", words)\n"
   ]
  },
  {
   "cell_type": "code",
   "execution_count": 13,
   "id": "f90ab378",
   "metadata": {},
   "outputs": [
    {
     "name": "stdout",
     "output_type": "stream",
     "text": [
      "Filtered Words (NLTK stopwords):\n",
      " ['technology', 'revolutionized', 'way', 'communicate', 'work', 'learn', 'smartphones', 'laptops', 'become', 'indispensable', 'tools', 'daily', 'lives', 'virtual', 'reality', 'artificial', 'intelligence', 'technology', 'advancing', 'unprecedented', 'pace', 'rapid', 'progress', 'brings', 'exciting', 'opportunities', 'complex', 'challenges', 'society', 'embraces', 'innovation', 'ethical', 'considerations', 'data', 'privacy', 'automation', 'become', 'increasingly', 'important']\n"
     ]
    },
    {
     "name": "stderr",
     "output_type": "stream",
     "text": [
      "[nltk_data] Downloading package stopwords to\n",
      "[nltk_data]     C:\\Users\\Croma\\AppData\\Roaming\\nltk_data...\n",
      "[nltk_data]   Package stopwords is already up-to-date!\n"
     ]
    }
   ],
   "source": [
    "#4\n",
    "from nltk.corpus import stopwords\n",
    "import nltk\n",
    "\n",
    "nltk.download('stopwords')\n",
    "\n",
    "stop_words = set(stopwords.words('english'))\n",
    "\n",
    "filtered_words = [word for word in words if word not in stop_words]\n",
    "\n",
    "print(\"Filtered Words (NLTK stopwords):\\n\", filtered_words)"
   ]
  },
  {
   "cell_type": "code",
   "execution_count": 14,
   "id": "5b49782b",
   "metadata": {},
   "outputs": [
    {
     "name": "stdout",
     "output_type": "stream",
     "text": [
      "Word Frequency Distribution:\n",
      " Counter({'technology': 2, 'become': 2, 'revolutionized': 1, 'way': 1, 'communicate': 1, 'work': 1, 'learn': 1, 'smartphones': 1, 'laptops': 1, 'indispensable': 1, 'tools': 1, 'daily': 1, 'lives': 1, 'virtual': 1, 'reality': 1, 'artificial': 1, 'intelligence': 1, 'advancing': 1, 'unprecedented': 1, 'pace': 1, 'rapid': 1, 'progress': 1, 'brings': 1, 'exciting': 1, 'opportunities': 1, 'complex': 1, 'challenges': 1, 'society': 1, 'embraces': 1, 'innovation': 1, 'ethical': 1, 'considerations': 1, 'data': 1, 'privacy': 1, 'automation': 1, 'increasingly': 1, 'important': 1})\n"
     ]
    }
   ],
   "source": [
    "#5\n",
    "from collections import Counter\n",
    "\n",
    "word_freq = Counter(filtered_words)\n",
    "\n",
    "print(\"Word Frequency Distribution:\\n\", word_freq)\n"
   ]
  },
  {
   "cell_type": "markdown",
   "id": "e5aef39e",
   "metadata": {},
   "source": [
    "Q2"
   ]
  },
  {
   "cell_type": "code",
   "execution_count": 15,
   "id": "d15ef76d",
   "metadata": {},
   "outputs": [
    {
     "name": "stdout",
     "output_type": "stream",
     "text": [
      "Words Found using regex:\n",
      " ['Technology', 'has', 'revolutionized', 'the', 'way', 'we', 'communicate', 'work', 'and', 'learn', 'Smartphones', 'and', 'laptops', 'have', 'become', 'indispensable', 'tools', 'in', 'our', 'daily', 'lives', 'From', 'virtual', 'reality', 'to', 'artificial', 'intelligence', 'technology', 'is', 'advancing', 'at', 'an', 'unprecedented', 'pace', 'This', 'rapid', 'progress', 'brings', 'exciting', 'opportunities', 'and', 'complex', 'challenges', 'As', 'society', 'embraces', 'innovation', 'ethical', 'considerations', 'about', 'data', 'privacy', 'and', 'automation', 'become', 'increasingly', 'important']\n"
     ]
    }
   ],
   "source": [
    "#1\n",
    "import re\n",
    "\n",
    "words_find=re.findall(r'\\b[a-zA-Z]+\\b',paragraph)\n",
    "\n",
    "print(\"Words Found using regex:\\n\", words_find)"
   ]
  },
  {
   "cell_type": "code",
   "execution_count": 16,
   "id": "5b5e1022",
   "metadata": {},
   "outputs": [
    {
     "name": "stdout",
     "output_type": "stream",
     "text": [
      "Filtered Words using regex:\n",
      " ['Technology', 'revolutionized', 'way', 'communicate', 'work', 'learn', 'Smartphones', 'laptops', 'become', 'indispensable', 'tools', 'daily', 'lives', 'From', 'virtual', 'reality', 'artificial', 'intelligence', 'technology', 'advancing', 'unprecedented', 'pace', 'This', 'rapid', 'progress', 'brings', 'exciting', 'opportunities', 'complex', 'challenges', 'As', 'society', 'embraces', 'innovation', 'ethical', 'considerations', 'data', 'privacy', 'automation', 'become', 'increasingly', 'important']\n"
     ]
    },
    {
     "name": "stderr",
     "output_type": "stream",
     "text": [
      "[nltk_data] Downloading package stopwords to\n",
      "[nltk_data]     C:\\Users\\Croma\\AppData\\Roaming\\nltk_data...\n",
      "[nltk_data]   Package stopwords is already up-to-date!\n"
     ]
    }
   ],
   "source": [
    "#2\n",
    "from nltk.corpus import stopwords\n",
    "import nltk\n",
    "nltk.download('stopwords')\n",
    "\n",
    "stop_words = set(stopwords.words('english'))\n",
    "\n",
    "filtered_words_2 = [word for word in words_find if word not in stop_words]\n",
    "\n",
    "print(\"Filtered Words using regex:\\n\", filtered_words_2)"
   ]
  },
  {
   "cell_type": "code",
   "execution_count": 17,
   "id": "0656c55c",
   "metadata": {},
   "outputs": [
    {
     "name": "stdout",
     "output_type": "stream",
     "text": [
      "Stemmed Words:\n",
      " ['technolog', 'revolution', 'way', 'commun', 'work', 'learn', 'smartphon', 'laptop', 'becom', 'indispens', 'tool', 'daili', 'live', 'virtual', 'realiti', 'artifici', 'intellig', 'technolog', 'advanc', 'unpreced', 'pace', 'rapid', 'progress', 'bring', 'excit', 'opportun', 'complex', 'challeng', 'societi', 'embrac', 'innov', 'ethic', 'consider', 'data', 'privaci', 'autom', 'becom', 'increasingli', 'import']\n"
     ]
    }
   ],
   "source": [
    "#3\n",
    "from nltk.stem import PorterStemmer\n",
    "\n",
    "stemmer = PorterStemmer()\n",
    "\n",
    "stemmed_words = [stemmer.stem(word) for word in filtered_words]\n",
    "print(\"Stemmed Words:\\n\", stemmed_words)\n"
   ]
  },
  {
   "cell_type": "code",
   "execution_count": 18,
   "id": "66332e44",
   "metadata": {},
   "outputs": [
    {
     "name": "stderr",
     "output_type": "stream",
     "text": [
      "[nltk_data] Downloading package wordnet to\n",
      "[nltk_data]     C:\\Users\\Croma\\AppData\\Roaming\\nltk_data...\n",
      "[nltk_data]   Package wordnet is already up-to-date!\n",
      "[nltk_data] Downloading package omw-1.4 to\n",
      "[nltk_data]     C:\\Users\\Croma\\AppData\\Roaming\\nltk_data...\n"
     ]
    },
    {
     "name": "stdout",
     "output_type": "stream",
     "text": [
      "Lemmatized Words:\n",
      " ['technology', 'revolutionized', 'way', 'communicate', 'work', 'learn', 'smartphones', 'laptop', 'become', 'indispensable', 'tool', 'daily', 'life', 'virtual', 'reality', 'artificial', 'intelligence', 'technology', 'advancing', 'unprecedented', 'pace', 'rapid', 'progress', 'brings', 'exciting', 'opportunity', 'complex', 'challenge', 'society', 'embrace', 'innovation', 'ethical', 'consideration', 'data', 'privacy', 'automation', 'become', 'increasingly', 'important']\n"
     ]
    }
   ],
   "source": [
    "#4\n",
    "from nltk.stem import WordNetLemmatizer\n",
    "\n",
    "nltk.download('wordnet')\n",
    "nltk.download('omw-1.4')\n",
    "\n",
    "lemmatizer = WordNetLemmatizer()\n",
    "\n",
    "lemmatized_words = [lemmatizer.lemmatize(word) for word in filtered_words]\n",
    "print(\"Lemmatized Words:\\n\", lemmatized_words)\n"
   ]
  },
  {
   "cell_type": "markdown",
   "id": "768bc0bc",
   "metadata": {},
   "source": [
    "Q3"
   ]
  },
  {
   "cell_type": "code",
   "execution_count": 1,
   "id": "3cdfdb63",
   "metadata": {},
   "outputs": [
    {
     "name": "stdout",
     "output_type": "stream",
     "text": [
      "Bag of Words Matrix:\n",
      " [[1 1 0 0 0 0 0 0 1 0 1 0 0 0 0 0 1 1 0 1 0 0 0 1 0 1 0]\n",
      " [0 1 1 0 0 0 1 0 0 0 0 1 0 0 1 1 0 0 0 0 0 1 0 0 1 0 1]\n",
      " [0 0 0 1 1 1 0 1 0 1 0 0 1 1 0 0 0 0 1 0 1 0 1 0 0 1 1]]\n",
      "\n",
      "Feature Names:\n",
      " ['amazing' 'and' 'battery' 'camera' 'capturing' 'device' 'display'\n",
      " 'effortlessly' 'excellent' 'fantastic' 'features' 'great' 'high' 'is'\n",
      " 'laptop' 'life' 'new' 'offers' 'on' 'performance' 'photos' 'provides'\n",
      " 'quality' 'smartphone' 'stunning' 'the' 'this']\n"
     ]
    }
   ],
   "source": [
    "#1\n",
    "texts = [\n",
    "    \"The new smartphone offers amazing features and excellent performance.\",\n",
    "    \"This laptop provides great battery life and a stunning display.\",\n",
    "    \"The camera on this device is fantastic, capturing high-quality photos effortlessly.\"\n",
    "]\n",
    "from sklearn.feature_extraction.text import CountVectorizer\n",
    "\n",
    "count_vectorizer = CountVectorizer()\n",
    "\n",
    "bow_matrix = count_vectorizer.fit_transform(texts)\n",
    "\n",
    "bow_array = bow_matrix.toarray()\n",
    "bow_feature_names = count_vectorizer.get_feature_names_out()\n",
    "\n",
    "print(\"Bag of Words Matrix:\\n\", bow_array)\n",
    "print(\"\\nFeature Names:\\n\", bow_feature_names)\n"
   ]
  },
  {
   "cell_type": "code",
   "execution_count": 20,
   "id": "bafd87bd",
   "metadata": {},
   "outputs": [
    {
     "name": "stdout",
     "output_type": "stream",
     "text": [
      "TF-IDF Matrix:\n",
      " [[0.35013871 0.26628951 0.         0.         0.         0.\n",
      "  0.         0.         0.35013871 0.         0.35013871 0.\n",
      "  0.         0.         0.         0.         0.35013871 0.35013871\n",
      "  0.         0.35013871 0.         0.         0.         0.35013871\n",
      "  0.         0.26628951 0.        ]\n",
      " [0.         0.26628951 0.35013871 0.         0.         0.\n",
      "  0.35013871 0.         0.         0.         0.         0.35013871\n",
      "  0.         0.         0.35013871 0.35013871 0.         0.\n",
      "  0.         0.         0.         0.35013871 0.         0.\n",
      "  0.35013871 0.         0.26628951]\n",
      " [0.         0.         0.         0.29938511 0.29938511 0.29938511\n",
      "  0.         0.29938511 0.         0.29938511 0.         0.\n",
      "  0.29938511 0.29938511 0.         0.         0.         0.\n",
      "  0.29938511 0.         0.29938511 0.         0.29938511 0.\n",
      "  0.         0.22769009 0.22769009]]\n",
      "\n",
      "Feature Names:\n",
      " ['amazing' 'and' 'battery' 'camera' 'capturing' 'device' 'display'\n",
      " 'effortlessly' 'excellent' 'fantastic' 'features' 'great' 'high' 'is'\n",
      " 'laptop' 'life' 'new' 'offers' 'on' 'performance' 'photos' 'provides'\n",
      " 'quality' 'smartphone' 'stunning' 'the' 'this']\n"
     ]
    }
   ],
   "source": [
    "#2\n",
    "from sklearn.feature_extraction.text import TfidfVectorizer\n",
    "\n",
    "tfidf_vectorizer = TfidfVectorizer()\n",
    "\n",
    "tfidf_matrix = tfidf_vectorizer.fit_transform(texts)\n",
    "\n",
    "tfidf_array = tfidf_matrix.toarray()\n",
    "tfidf_feature_names = tfidf_vectorizer.get_feature_names_out()\n",
    "\n",
    "print(\"TF-IDF Matrix:\\n\", tfidf_array)\n",
    "print(\"\\nFeature Names:\\n\", tfidf_feature_names)\n"
   ]
  },
  {
   "cell_type": "code",
   "execution_count": 21,
   "id": "b732c242",
   "metadata": {},
   "outputs": [
    {
     "name": "stdout",
     "output_type": "stream",
     "text": [
      "Text 1:\n",
      "The new smartphone offers amazing features and excellent performance.\n",
      "Top 3 Keywords and Scores:\n",
      "  - offers: 0.350\n",
      "  - new: 0.350\n",
      "  - smartphone: 0.350\n",
      "\n",
      "Text 2:\n",
      "This laptop provides great battery life and a stunning display.\n",
      "Top 3 Keywords and Scores:\n",
      "  - stunning: 0.350\n",
      "  - provides: 0.350\n",
      "  - life: 0.350\n",
      "\n",
      "Text 3:\n",
      "The camera on this device is fantastic, capturing high-quality photos effortlessly.\n",
      "Top 3 Keywords and Scores:\n",
      "  - on: 0.299\n",
      "  - photos: 0.299\n",
      "  - quality: 0.299\n",
      "\n"
     ]
    }
   ],
   "source": [
    "#3\n",
    "import numpy as np\n",
    "\n",
    "for i, text in enumerate(texts):\n",
    "    tfidf_scores = tfidf_array[i]\n",
    "    top_indices = np.argsort(tfidf_scores)[-3:][::-1] \n",
    "    top_keywords = [tfidf_feature_names[index] for index in top_indices]\n",
    "    top_values = [tfidf_scores[index] for index in top_indices]\n",
    "    print(f\"Text {i + 1}:\\n{text}\")\n",
    "    print(\"Top 3 Keywords and Scores:\")\n",
    "    for keyword, score in zip(top_keywords, top_values):\n",
    "        print(f\"  - {keyword}: {score:.3f}\")\n",
    "    print()\n"
   ]
  },
  {
   "cell_type": "markdown",
   "id": "c3de32cc",
   "metadata": {},
   "source": [
    "Q4"
   ]
  },
  {
   "cell_type": "code",
   "execution_count": 1,
   "id": "d7f80323",
   "metadata": {},
   "outputs": [
    {
     "name": "stdout",
     "output_type": "stream",
     "text": [
      "Tokens from Text 1:\n",
      " ['artificial', 'intelligence', 'ai', 'enables', 'machines', 'learn', 'data', 'perform', 'tasks', 'intelligently', 'widely', 'used', 'healthcare', 'finance', 'autonomous', 'systems']\n",
      "Tokens from Text 2:\n",
      " ['blockchain', 'technology', 'decentralized', 'ledger', 'system', 'ensures', 'secure', 'transparent', 'transactions', 'widely', 'applied', 'finance', 'supply', 'chain', 'cryptocurrency']\n"
     ]
    },
    {
     "name": "stderr",
     "output_type": "stream",
     "text": [
      "[nltk_data] Downloading package punkt to\n",
      "[nltk_data]     C:\\Users\\Croma\\AppData\\Roaming\\nltk_data...\n",
      "[nltk_data]   Package punkt is already up-to-date!\n",
      "[nltk_data] Downloading package stopwords to\n",
      "[nltk_data]     C:\\Users\\Croma\\AppData\\Roaming\\nltk_data...\n",
      "[nltk_data]   Package stopwords is already up-to-date!\n"
     ]
    }
   ],
   "source": [
    "#1\n",
    "text1 = \"Artificial Intelligence (AI) enables machines to learn from data and perform tasks intelligently. It is widely used in healthcare, finance, and autonomous systems.\"\n",
    "text2 = \"Blockchain technology is a decentralized ledger system that ensures secure and transparent transactions. It is widely applied in finance, supply chain, and cryptocurrency.\"\n",
    "\n",
    "import re\n",
    "from nltk.tokenize import word_tokenize\n",
    "from nltk.corpus import stopwords\n",
    "import nltk\n",
    "\n",
    "nltk.download('punkt')\n",
    "nltk.download('stopwords')\n",
    "\n",
    "def preprocess_and_tokenize(text):\n",
    "    text = text.lower()  \n",
    "    text = re.sub(r'[^\\w\\s]', '', text)  \n",
    "    tokens = word_tokenize(text)  \n",
    "    stop_words = set(stopwords.words('english'))\n",
    "    tokens = [word for word in tokens if word not in stop_words] \n",
    "    return tokens\n",
    "\n",
    "tokens1 = preprocess_and_tokenize(text1)\n",
    "tokens2 = preprocess_and_tokenize(text2)\n",
    "\n",
    "print(\"Tokens from Text 1:\\n\", tokens1)\n",
    "print(\"Tokens from Text 2:\\n\", tokens2)\n"
   ]
  },
  {
   "cell_type": "code",
   "execution_count": 23,
   "id": "06974db8",
   "metadata": {},
   "outputs": [
    {
     "name": "stdout",
     "output_type": "stream",
     "text": [
      "Jaccard Similarity: 0.06896551724137931\n"
     ]
    }
   ],
   "source": [
    "#2\n",
    "set1 = set(tokens1)\n",
    "set2 = set(tokens2)\n",
    "\n",
    "intersection = len(set1.intersection(set2))\n",
    "union = len(set1.union(set2))\n",
    "jaccard_similarity = intersection / union\n",
    "\n",
    "print(\"Jaccard Similarity:\", jaccard_similarity)\n"
   ]
  },
  {
   "cell_type": "code",
   "execution_count": 24,
   "id": "47fc46e6",
   "metadata": {},
   "outputs": [
    {
     "name": "stdout",
     "output_type": "stream",
     "text": [
      "Cosine Similarity: 0.24920772290445617\n"
     ]
    }
   ],
   "source": [
    "#3\n",
    "from sklearn.feature_extraction.text import TfidfVectorizer\n",
    "from sklearn.metrics.pairwise import cosine_similarity\n",
    "\n",
    "vectorizer = TfidfVectorizer()\n",
    "\n",
    "tfidf_matrix = vectorizer.fit_transform([text1, text2])\n",
    "\n",
    "cosine_sim = cosine_similarity(tfidf_matrix[0], tfidf_matrix[1])\n",
    "\n",
    "print(\"Cosine Similarity:\", cosine_sim[0][0])\n"
   ]
  },
  {
   "cell_type": "markdown",
   "id": "386ce017",
   "metadata": {},
   "source": [
    "Q5"
   ]
  },
  {
   "cell_type": "code",
   "execution_count": null,
   "id": "0dc51170",
   "metadata": {},
   "outputs": [
    {
     "name": "stdout",
     "output_type": "stream",
     "text": [
      "Polarity: 0.1375\n",
      "Subjectivity: 0.6\n"
     ]
    }
   ],
   "source": [
    "#1\n",
    "review = 'The smartphone offers an excellent display and long battery life, but its camera quality is mediocre.'\n",
    "\n",
    "from textblob import TextBlob\n",
    "\n",
    "blob = TextBlob(review)\n",
    "\n",
    "polarity = blob.sentiment.polarity\n",
    "subjectivity = blob.sentiment.subjectivity\n",
    "\n",
    "print(\"Polarity:\", polarity)\n",
    "print(\"Subjectivity:\", subjectivity)\n"
   ]
  },
  {
   "cell_type": "code",
   "execution_count": 3,
   "id": "f18809b5",
   "metadata": {},
   "outputs": [
    {
     "name": "stdout",
     "output_type": "stream",
     "text": [
      "Review Sentiment: Positive\n"
     ]
    }
   ],
   "source": [
    "#2\n",
    "if polarity > 0:\n",
    "    sentiment = \"Positive\"\n",
    "elif polarity < 0:\n",
    "    sentiment = \"Negative\"\n",
    "else:\n",
    "    sentiment = \"Neutral\"\n",
    "\n",
    "print(\"Review Sentiment:\", sentiment)\n"
   ]
  },
  {
   "cell_type": "code",
   "execution_count": 1,
   "id": "01cfef1a",
   "metadata": {},
   "outputs": [
    {
     "data": {
      "image/png": "[encoded data removed]",
      "text/plain": [
       "<Figure size 1000x500 with 1 Axes>"
      ]
     },
     "metadata": {},
     "output_type": "display_data"
    }
   ],
   "source": [
    "#3\n",
    "positive_reviews = [\n",
    "    \"The smartphone offers an excellent display and long battery life.\",\n",
    "    \"The camera is fantastic, and the overall performance is outstanding.\",\n",
    "    \"This device provides great value for money.\"\n",
    "]\n",
    "\n",
    "positive_text = \" \".join(positive_reviews)\n",
    "\n",
    "from wordcloud import WordCloud\n",
    "import matplotlib.pyplot as plt\n",
    "\n",
    "wordcloud = WordCloud(width=800, height=400, background_color=\"white\").generate(positive_text)\n",
    "\n",
    "plt.figure(figsize=(10, 5))\n",
    "plt.imshow(wordcloud, interpolation=\"bilinear\")\n",
    "plt.axis(\"off\")\n",
    "plt.show()\n"
   ]
  },
  {
   "cell_type": "markdown",
   "id": "85f85ffa",
   "metadata": {},
   "source": [
    "Q6"
   ]
  },
  {
   "cell_type": "code",
   "execution_count": 1,
   "id": "340828df",
   "metadata": {},
   "outputs": [
    {
     "name": "stdout",
     "output_type": "stream",
     "text": [
      "Word Index:\n",
      " {'and': 1, 'artificial': 2, 'intelligence': 3, 'is': 4, 'transforming': 5, 'industries': 6, 'by': 7, 'automating': 8, 'complex': 9, 'tasks': 10, 'enabling': 11, 'data': 12, 'driven': 13, 'decisions': 14, 'unlocking': 15, 'new': 16, 'possibilities': 17, 'ai': 18, 'powers': 19, 'advancements': 20, 'in': 21, 'healthcare': 22, 'autonomous': 23, 'vehicles': 24, 'personalized': 25, 'recommendations': 26, 'it': 27, 'continues': 28, 'to': 29, 'push': 30, 'the': 31, 'boundaries': 32, 'of': 33, 'what': 34, 'technology': 35, 'can': 36, 'achieve': 37}\n",
      "\n",
      "Sequences:\n",
      " [2, 3, 4, 5, 6, 7, 8, 9, 10, 11, 12, 13, 14, 1, 15, 16, 17, 18, 19, 20, 21, 22, 23, 24, 1, 25, 26, 27, 28, 29, 30, 31, 32, 33, 34, 35, 36, 37]\n"
     ]
    }
   ],
   "source": [
    "text = \"\"\"Artificial intelligence is transforming industries by automating complex tasks, enabling data-driven decisions, and unlocking new possibilities. \n",
    "AI powers advancements in healthcare, autonomous vehicles, and personalized recommendations. It continues to push the boundaries of what technology can achieve.\"\"\"\n",
    "\n",
    "from tensorflow.keras.preprocessing.text import Tokenizer\n",
    "from tensorflow.keras.utils import pad_sequences\n",
    "\n",
    "tokenizer = Tokenizer()\n",
    "tokenizer.fit_on_texts([text])\n",
    "\n",
    "sequences = tokenizer.texts_to_sequences([text])[0]\n",
    "\n",
    "vocab_size = len(tokenizer.word_index) + 1\n",
    "\n",
    "print(\"Word Index:\\n\", tokenizer.word_index)\n",
    "print(\"\\nSequences:\\n\", sequences)\n"
   ]
  },
  {
   "cell_type": "code",
   "execution_count": 3,
   "id": "18600614",
   "metadata": {},
   "outputs": [
    {
     "name": "stdout",
     "output_type": "stream",
     "text": [
      "Input Shape: (33, 5)\n",
      "Output Shape: (33, 38)\n"
     ]
    }
   ],
   "source": [
    "#2\n",
    "import numpy as np\n",
    "\n",
    "sequence_length = 5\n",
    "input_sequences = []\n",
    "for i in range(sequence_length, len(sequences)):\n",
    "    input_sequences.append(sequences[i-sequence_length:i+1])\n",
    "\n",
    "input_sequences = np.array(pad_sequences(input_sequences, maxlen=sequence_length+1, padding='pre'))\n",
    "\n",
    "X, y = input_sequences[:, :-1], input_sequences[:, -1]\n",
    "\n",
    "y = np.eye(vocab_size)[y]\n",
    "\n",
    "print(\"Input Shape:\", X.shape)\n",
    "print(\"Output Shape:\", y.shape)\n"
   ]
  },
  {
   "cell_type": "code",
   "execution_count": 6,
   "id": "05d59615",
   "metadata": {},
   "outputs": [
    {
     "name": "stdout",
     "output_type": "stream",
     "text": [
      "Epoch 1/50\n",
      "2/2 - 3s - 1s/step - accuracy: 0.0303 - loss: 3.6366\n",
      "Epoch 2/50\n",
      "2/2 - 0s - 35ms/step - accuracy: 0.1515 - loss: 3.6314\n",
      "Epoch 3/50\n",
      "2/2 - 0s - 34ms/step - accuracy: 0.1818 - loss: 3.6279\n",
      "Epoch 4/50\n",
      "2/2 - 0s - 34ms/step - accuracy: 0.1818 - loss: 3.6248\n",
      "Epoch 5/50\n",
      "2/2 - 0s - 33ms/step - accuracy: 0.2424 - loss: 3.6217\n",
      "Epoch 6/50\n",
      "2/2 - 0s - 34ms/step - accuracy: 0.2424 - loss: 3.6188\n",
      "Epoch 7/50\n",
      "2/2 - 0s - 38ms/step - accuracy: 0.2727 - loss: 3.6159\n",
      "Epoch 8/50\n",
      "2/2 - 0s - 37ms/step - accuracy: 0.3030 - loss: 3.6129\n",
      "Epoch 9/50\n",
      "2/2 - 0s - 39ms/step - accuracy: 0.3030 - loss: 3.6099\n",
      "Epoch 10/50\n",
      "2/2 - 0s - 37ms/step - accuracy: 0.3030 - loss: 3.6066\n",
      "Epoch 11/50\n",
      "2/2 - 0s - 37ms/step - accuracy: 0.3333 - loss: 3.6034\n",
      "Epoch 12/50\n",
      "2/2 - 0s - 33ms/step - accuracy: 0.3030 - loss: 3.5998\n",
      "Epoch 13/50\n",
      "2/2 - 0s - 34ms/step - accuracy: 0.3333 - loss: 3.5963\n",
      "Epoch 14/50\n",
      "2/2 - 0s - 34ms/step - accuracy: 0.3333 - loss: 3.5924\n",
      "Epoch 15/50\n",
      "2/2 - 0s - 34ms/step - accuracy: 0.3636 - loss: 3.5883\n",
      "Epoch 16/50\n",
      "2/2 - 0s - 34ms/step - accuracy: 0.3939 - loss: 3.5841\n",
      "Epoch 17/50\n",
      "2/2 - 0s - 32ms/step - accuracy: 0.3939 - loss: 3.5796\n",
      "Epoch 18/50\n",
      "2/2 - 0s - 34ms/step - accuracy: 0.3939 - loss: 3.5749\n",
      "Epoch 19/50\n",
      "2/2 - 0s - 34ms/step - accuracy: 0.3939 - loss: 3.5699\n",
      "Epoch 20/50\n",
      "2/2 - 0s - 34ms/step - accuracy: 0.3636 - loss: 3.5646\n",
      "Epoch 21/50\n",
      "2/2 - 0s - 34ms/step - accuracy: 0.3636 - loss: 3.5588\n",
      "Epoch 22/50\n",
      "2/2 - 0s - 34ms/step - accuracy: 0.3636 - loss: 3.5526\n",
      "Epoch 23/50\n",
      "2/2 - 0s - 34ms/step - accuracy: 0.3636 - loss: 3.5459\n",
      "Epoch 24/50\n",
      "2/2 - 0s - 34ms/step - accuracy: 0.3636 - loss: 3.5384\n",
      "Epoch 25/50\n",
      "2/2 - 0s - 38ms/step - accuracy: 0.3939 - loss: 3.5309\n",
      "Epoch 26/50\n",
      "2/2 - 0s - 42ms/step - accuracy: 0.3636 - loss: 3.5223\n",
      "Epoch 27/50\n",
      "2/2 - 0s - 45ms/step - accuracy: 0.3636 - loss: 3.5134\n",
      "Epoch 28/50\n",
      "2/2 - 0s - 43ms/step - accuracy: 0.3636 - loss: 3.5037\n",
      "Epoch 29/50\n",
      "2/2 - 0s - 39ms/step - accuracy: 0.3333 - loss: 3.4933\n",
      "Epoch 30/50\n",
      "2/2 - 0s - 37ms/step - accuracy: 0.3636 - loss: 3.4819\n",
      "Epoch 31/50\n",
      "2/2 - 0s - 34ms/step - accuracy: 0.3939 - loss: 3.4693\n",
      "Epoch 32/50\n",
      "2/2 - 0s - 35ms/step - accuracy: 0.4545 - loss: 3.4549\n",
      "Epoch 33/50\n",
      "2/2 - 0s - 37ms/step - accuracy: 0.4545 - loss: 3.4399\n",
      "Epoch 34/50\n",
      "2/2 - 0s - 37ms/step - accuracy: 0.4545 - loss: 3.4231\n",
      "Epoch 35/50\n",
      "2/2 - 0s - 36ms/step - accuracy: 0.4545 - loss: 3.4043\n",
      "Epoch 36/50\n",
      "2/2 - 0s - 36ms/step - accuracy: 0.4545 - loss: 3.3841\n",
      "Epoch 37/50\n",
      "2/2 - 0s - 34ms/step - accuracy: 0.4545 - loss: 3.3613\n",
      "Epoch 38/50\n",
      "2/2 - 0s - 35ms/step - accuracy: 0.4848 - loss: 3.3355\n",
      "Epoch 39/50\n",
      "2/2 - 0s - 34ms/step - accuracy: 0.4848 - loss: 3.3072\n",
      "Epoch 40/50\n",
      "2/2 - 0s - 38ms/step - accuracy: 0.5152 - loss: 3.2737\n",
      "Epoch 41/50\n",
      "2/2 - 0s - 35ms/step - accuracy: 0.4545 - loss: 3.2377\n",
      "Epoch 42/50\n",
      "2/2 - 0s - 37ms/step - accuracy: 0.3939 - loss: 3.1977\n",
      "Epoch 43/50\n",
      "2/2 - 0s - 39ms/step - accuracy: 0.3939 - loss: 3.1552\n",
      "Epoch 44/50\n",
      "2/2 - 0s - 36ms/step - accuracy: 0.3939 - loss: 3.1078\n",
      "Epoch 45/50\n",
      "2/2 - 0s - 36ms/step - accuracy: 0.3636 - loss: 3.0567\n",
      "Epoch 46/50\n",
      "2/2 - 0s - 40ms/step - accuracy: 0.3333 - loss: 2.9975\n",
      "Epoch 47/50\n",
      "2/2 - 0s - 36ms/step - accuracy: 0.3333 - loss: 2.9364\n",
      "Epoch 48/50\n",
      "2/2 - 0s - 34ms/step - accuracy: 0.3333 - loss: 2.8723\n",
      "Epoch 49/50\n",
      "2/2 - 0s - 36ms/step - accuracy: 0.3939 - loss: 2.8056\n",
      "Epoch 50/50\n",
      "2/2 - 0s - 35ms/step - accuracy: 0.3939 - loss: 2.7359\n"
     ]
    },
    {
     "data": {
      "text/plain": [
       "<keras.src.callbacks.history.History at 0x29628607890>"
      ]
     },
     "execution_count": 6,
     "metadata": {},
     "output_type": "execute_result"
    }
   ],
   "source": [
    "from tensorflow.keras.models import Sequential\n",
    "from tensorflow.keras.layers import Embedding, LSTM, Dense\n",
    "from tensorflow.keras.preprocessing.text import Tokenizer\n",
    "from tensorflow.keras.utils import pad_sequences\n",
    "import numpy as np\n",
    "\n",
    "text = \"\"\"Artificial intelligence is transforming industries by automating complex tasks, enabling data-driven decisions, and unlocking new possibilities. \n",
    "AI powers advancements in healthcare, autonomous vehicles, and personalized recommendations. It continues to push the boundaries of what technology can achieve.\"\"\"\n",
    "\n",
    "tokenizer = Tokenizer()\n",
    "tokenizer.fit_on_texts([text])\n",
    "\n",
    "vocab_size = len(tokenizer.word_index) + 1\n",
    "\n",
    "sequences = tokenizer.texts_to_sequences([text])[0]\n",
    "sequence_length = 5  \n",
    "X = [sequences[i:i+sequence_length] for i in range(len(sequences)-sequence_length)]\n",
    "X = np.array(X)\n",
    "\n",
    "y = [sequences[i+sequence_length] for i in range(len(sequences)-sequence_length)]\n",
    "y = np.array(y)\n",
    "\n",
    "X = np.array(X)\n",
    "y = np.array(y)\n",
    "\n",
    "model = Sequential([\n",
    "    Embedding(input_dim=vocab_size, output_dim=50, input_length=sequence_length),\n",
    "    LSTM(100, return_sequences=False),\n",
    "    Dense(vocab_size, activation='softmax')\n",
    "])\n",
    "\n",
    "model.compile(optimizer='adam', loss='sparse_categorical_crossentropy', metrics=['accuracy'])\n",
    "\n",
    "model.fit(X, y, epochs=50, verbose=2)\n"
   ]
  },
  {
   "cell_type": "code",
   "execution_count": 5,
   "id": "05e209fe",
   "metadata": {},
   "outputs": [
    {
     "name": "stdout",
     "output_type": "stream",
     "text": [
      "Generated Text: AI autonomous autonomous autonomous autonomous autonomous\n"
     ]
    }
   ],
   "source": [
    "#4\n",
    "def generate_text(seed_text, next_words, model, tokenizer, sequence_length):\n",
    "    for _ in range(next_words):\n",
    "        token_list = tokenizer.texts_to_sequences([seed_text])[0]\n",
    "        token_list = pad_sequences([token_list], maxlen=sequence_length, padding='pre')\n",
    "        predicted = model.predict(token_list, verbose=0)\n",
    "        next_word = tokenizer.index_word[np.argmax(predicted)]\n",
    "        seed_text += \" \" + next_word\n",
    "    return seed_text\n",
    "\n",
    "seed_text = \"AI\"\n",
    "generated_text = generate_text(seed_text, 5, model, tokenizer, sequence_length)\n",
    "print(\"Generated Text:\", generated_text)\n"
   ]
  }
 ],
 "metadata": {
  "kernelspec": {
   "display_name": "Python 3",
   "language": "python",
   "name": "python3"
  },
  "language_info": {
   "codemirror_mode": {
    "name": "ipython",
    "version": 3
   },
   "file_extension": ".py",
   "mimetype": "text/x-python",
   "name": "python",
   "nbconvert_exporter": "python",
   "pygments_lexer": "ipython3",
   "version": "3.13.1"
  }
 },
 "nbformat": 4,
 "nbformat_minor": 5
}
