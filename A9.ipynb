{
 "cells": [
  {
   "cell_type": "markdown",
   "id": "f80c21d1",
   "metadata": {},
   "source": [
    "Assignment-9\n"
   ]
  },
  {
   "cell_type": "code",
   "execution_count": 17,
   "id": "bcbffec3",
   "metadata": {},
   "outputs": [
    {
     "name": "stdout",
     "output_type": "stream",
     "text": [
      "Text after lowercase and punctuation removal:\n",
      "natural language processing nlp is a fascinating field\n"
     ]
    }
   ],
   "source": [
    "#Q1\n",
    "#1\n",
    "import string\n",
    "\n",
    "text = \"Natural Language Processing (NLP) is a fascinating field!\"\n",
    "\n",
    "text_lower = text.lower()\n",
    "\n",
    "text_clean = text_lower.translate(str.maketrans('', '', string.punctuation))\n",
    "\n",
    "print(\"Text after lowercase and punctuation removal:\")\n",
    "print(text_clean)\n"
   ]
  },
  {
   "cell_type": "code",
   "execution_count": 19,
   "id": "e7815392",
   "metadata": {},
   "outputs": [
    {
     "name": "stdout",
     "output_type": "stream",
     "text": [
      "Tokenized Sentences:\n",
      "['natural language processing nlp is a fascinating field']\n",
      "\n",
      "Tokenized Words:\n",
      "['natural', 'language', 'processing', 'nlp', 'is', 'a', 'fascinating', 'field']\n"
     ]
    },
    {
     "name": "stderr",
     "output_type": "stream",
     "text": [
      "[nltk_data] Downloading package punkt to\n",
      "[nltk_data]     C:\\Users\\Croma\\AppData\\Roaming\\nltk_data...\n",
      "[nltk_data]   Package punkt is already up-to-date!\n"
     ]
    }
   ],
   "source": [
    "#Q1\n",
    "#2\n",
    "import nltk\n",
    "from nltk.tokenize import word_tokenize, sent_tokenize\n",
    "\n",
    "nltk.download('punkt')\n",
    "\n",
    "sentences = sent_tokenize(text_clean)\n",
    "\n",
    "words = word_tokenize(text_clean)\n",
    "\n",
    "print(\"Tokenized Sentences:\")\n",
    "print(sentences)\n",
    "\n",
    "print(\"\\nTokenized Words:\")\n",
    "print(words)\n"
   ]
  },
  {
   "cell_type": "code",
   "execution_count": 3,
   "id": "6db7a02e",
   "metadata": {},
   "outputs": [
    {
     "name": "stdout",
     "output_type": "stream",
     "text": [
      "\n",
      "Words After Stopword Removal:\n",
      "['natural', 'language', 'processing', 'nlp', 'fascinating', 'field']\n"
     ]
    },
    {
     "name": "stderr",
     "output_type": "stream",
     "text": [
      "[nltk_data] Downloading package stopwords to\n",
      "[nltk_data]     C:\\Users\\Croma\\AppData\\Roaming\\nltk_data...\n",
      "[nltk_data]   Package stopwords is already up-to-date!\n"
     ]
    }
   ],
   "source": [
    "#Q1\n",
    "#3\n",
    "from nltk.corpus import stopwords\n",
    "\n",
    "nltk.download('stopwords')\n",
    "\n",
    "stop_words = set(stopwords.words('english'))\n",
    "\n",
    "filtered_words = [word for word in words if word not in stop_words]\n",
    "\n",
    "print(\"\\nWords After Stopword Removal:\")\n",
    "print(filtered_words)\n"
   ]
  },
  {
   "cell_type": "markdown",
   "id": "663cef66",
   "metadata": {},
   "source": []
  },
  {
   "cell_type": "code",
   "execution_count": 22,
   "id": "b898a078",
   "metadata": {},
   "outputs": [
    {
     "data": {
      "image/png": "[encoded data removed]",
      "text/plain": [
       "<Figure size 640x480 with 1 Axes>"
      ]
     },
     "metadata": {},
     "output_type": "display_data"
    }
   ],
   "source": [
    "#Q1\n",
    "#4\n",
    "from collections import Counter\n",
    "import matplotlib.pyplot as plt\n",
    "\n",
    "word_freq = Counter(filtered_words)\n",
    "plt.bar(word_freq.keys(), word_freq.values())\n",
    "plt.xticks(rotation=45)\n",
    "plt.show()\n"
   ]
  },
  {
   "cell_type": "code",
   "execution_count": 5,
   "id": "3689fe8f",
   "metadata": {},
   "outputs": [
    {
     "name": "stdout",
     "output_type": "stream",
     "text": [
      "Porter Stemmer: ['natur', 'languag', 'process', 'nlp', 'fascin', 'field']\n",
      "Lancaster Stemmer: ['nat', 'langu', 'process', 'nlp', 'fascin', 'field']\n"
     ]
    }
   ],
   "source": [
    "#Q2\n",
    "from nltk.stem import PorterStemmer, LancasterStemmer\n",
    "\n",
    "porter = PorterStemmer()\n",
    "lancaster = LancasterStemmer()\n",
    "\n",
    "porter_stems = [porter.stem(word) for word in filtered_words]\n",
    "lancaster_stems = [lancaster.stem(word) for word in filtered_words]\n",
    "print(\"Porter Stemmer:\", porter_stems)\n",
    "print(\"Lancaster Stemmer:\", lancaster_stems)\n"
   ]
  },
  {
   "cell_type": "code",
   "execution_count": 6,
   "id": "2eaf4ffa",
   "metadata": {},
   "outputs": [
    {
     "name": "stdout",
     "output_type": "stream",
     "text": [
      "['Natural', 'Language', 'Processing', 'fascinating']\n"
     ]
    }
   ],
   "source": [
    "#Q3\n",
    "#2 a\n",
    "import re\n",
    "\n",
    "long_words = re.findall(r'\\b\\w{6,}\\b', text)\n",
    "print(long_words)\n"
   ]
  },
  {
   "cell_type": "code",
   "execution_count": 7,
   "id": "4927df85",
   "metadata": {},
   "outputs": [
    {
     "name": "stdout",
     "output_type": "stream",
     "text": [
      "[]\n"
     ]
    }
   ],
   "source": [
    "#Q3\n",
    "#2 b\n",
    "numbers = re.findall(r'\\b\\d+\\b', text)\n",
    "print(numbers)\n"
   ]
  },
  {
   "cell_type": "code",
   "execution_count": 8,
   "id": "1e33a6ff",
   "metadata": {},
   "outputs": [
    {
     "name": "stdout",
     "output_type": "stream",
     "text": [
      "['Natural', 'Language', 'Processing']\n"
     ]
    }
   ],
   "source": [
    "#Q3\n",
    "#2 c\n",
    "capitalized_words = re.findall(r'\\b[A-Z][a-z]*\\b', text)\n",
    "print(capitalized_words)\n"
   ]
  },
  {
   "cell_type": "code",
   "execution_count": null,
   "id": "b69c0dcf",
   "metadata": {},
   "outputs": [],
   "source": []
  },
  {
   "cell_type": "code",
   "execution_count": 9,
   "id": "ece88116",
   "metadata": {},
   "outputs": [
    {
     "name": "stdout",
     "output_type": "stream",
     "text": [
      "['Natural', 'Language', 'Processing', 'NLP', 'is', 'a', 'fascinating', 'field']\n"
     ]
    }
   ],
   "source": [
    "#Q3\n",
    "#3 a\n",
    "alpha_words = re.findall(r'\\b[a-zA-Z]+\\b', text)\n",
    "print(alpha_words)\n"
   ]
  },
  {
   "cell_type": "code",
   "execution_count": 10,
   "id": "0cf02a39",
   "metadata": {},
   "outputs": [
    {
     "name": "stdout",
     "output_type": "stream",
     "text": [
      "['is', 'a']\n"
     ]
    }
   ],
   "source": [
    "#Q3\n",
    "#3 b\n",
    "vowel_words = [word for word in alpha_words if word[0].lower() in 'aeiou']\n",
    "print(vowel_words)\n"
   ]
  },
  {
   "cell_type": "code",
   "execution_count": 11,
   "id": "f0c8e48c",
   "metadata": {},
   "outputs": [
    {
     "name": "stdout",
     "output_type": "stream",
     "text": [
      "['Natural', 'Language', 'Processing', 'NLP', 'is', 'a', 'fascinating', 'field']\n"
     ]
    }
   ],
   "source": [
    "#Q4\n",
    "#2 \n",
    "def custom_tokenizer(text):\n",
    "    text = re.sub(r'[^\\w\\s\\'\\-\\.]', '', text)  \n",
    "    tokens = re.findall(r'\\b\\w+[-\\w]*\\b|\\d+\\.\\d+', text)  \n",
    "    return tokens\n",
    "\n",
    "tokens = custom_tokenizer(text)\n",
    "print(tokens)\n"
   ]
  },
  {
   "cell_type": "code",
   "execution_count": 12,
   "id": "2498ebb8",
   "metadata": {},
   "outputs": [
    {
     "name": "stdout",
     "output_type": "stream",
     "text": [
      "Natural Language Processing (NLP) is a fascinating field!\n"
     ]
    }
   ],
   "source": [
    "#Q4\n",
    "#3\n",
    "email_replaced = re.sub(r'\\b[A-Za-z0-9._%+-]+@[A-Za-z0-9.-]+\\.[A-Za-z]{2,}\\b', '<EMAIL>', text)\n",
    "url_replaced = re.sub(r'http\\S+|www\\.\\S+', '<URL>', email_replaced)\n",
    "phone_replaced = re.sub(r'(\\+?\\d{1,3})?[-.\\s]?\\(?\\d{3}\\)?[-.\\s]?\\d{3}[-.\\s]?\\d{4}', '<PHONE>', url_replaced)\n",
    "print(phone_replaced)\n"
   ]
  }
 ],
 "metadata": {
  "kernelspec": {
   "display_name": "Python 3",
   "language": "python",
   "name": "python3"
  },
  "language_info": {
   "codemirror_mode": {
    "name": "ipython",
    "version": 3
   },
   "file_extension": ".py",
   "mimetype": "text/x-python",
   "name": "python",
   "nbconvert_exporter": "python",
   "pygments_lexer": "ipython3",
   "version": "3.13.1"
  }
 },
 "nbformat": 4,
 "nbformat_minor": 5
}
